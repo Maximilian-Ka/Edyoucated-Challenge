{
 "cells": [
  {
   "cell_type": "markdown",
   "id": "7c45aff4",
   "metadata": {},
   "source": [
    "# Edyoucated Data Science Challenge"
   ]
  },
  {
   "cell_type": "markdown",
   "id": "44bc9727",
   "metadata": {},
   "source": [
    "## The data"
   ]
  },
  {
   "cell_type": "code",
   "execution_count": 1,
   "id": "1a5b0001",
   "metadata": {},
   "outputs": [],
   "source": [
    "import pandas as pd\n",
    "\n",
    "material = pd.read_csv(\"material.csv\")\n",
    "\n",
    "material_progress = pd.read_csv(\"material_progress.csv\")\n",
    "\n",
    "user_skill = pd.read_csv(\"user_skill.csv\")\n",
    "\n",
    "dfs = [material, material_progress, user_skill]"
   ]
  },
  {
   "cell_type": "code",
   "execution_count": 2,
   "id": "798d0ce0",
   "metadata": {},
   "outputs": [
    {
     "name": "stdout",
     "output_type": "stream",
     "text": [
      "Dataframe Material:"
     ]
    },
    {
     "data": {
      "text/html": [
       "<div>\n",
       "<style scoped>\n",
       "    .dataframe tbody tr th:only-of-type {\n",
       "        vertical-align: middle;\n",
       "    }\n",
       "\n",
       "    .dataframe tbody tr th {\n",
       "        vertical-align: top;\n",
       "    }\n",
       "\n",
       "    .dataframe thead th {\n",
       "        text-align: right;\n",
       "    }\n",
       "</style>\n",
       "<table border=\"1\" class=\"dataframe\">\n",
       "  <thead>\n",
       "    <tr style=\"text-align: right;\">\n",
       "      <th></th>\n",
       "      <th>material_id</th>\n",
       "      <th>type</th>\n",
       "      <th>language</th>\n",
       "      <th>duration_minutes</th>\n",
       "    </tr>\n",
       "  </thead>\n",
       "  <tbody>\n",
       "    <tr>\n",
       "      <th>0</th>\n",
       "      <td>DE10273658186102893108</td>\n",
       "      <td>video</td>\n",
       "      <td>en</td>\n",
       "      <td>4</td>\n",
       "    </tr>\n",
       "    <tr>\n",
       "      <th>1</th>\n",
       "      <td>DE65100778896973122987</td>\n",
       "      <td>video</td>\n",
       "      <td>en</td>\n",
       "      <td>5</td>\n",
       "    </tr>\n",
       "    <tr>\n",
       "      <th>2</th>\n",
       "      <td>DE81811499116100670121</td>\n",
       "      <td>video</td>\n",
       "      <td>en</td>\n",
       "      <td>4</td>\n",
       "    </tr>\n",
       "    <tr>\n",
       "      <th>3</th>\n",
       "      <td>DE11810611510611074981</td>\n",
       "      <td>text</td>\n",
       "      <td>en</td>\n",
       "      <td>5</td>\n",
       "    </tr>\n",
       "    <tr>\n",
       "      <th>4</th>\n",
       "      <td>DE83768011872511399827</td>\n",
       "      <td>text</td>\n",
       "      <td>de</td>\n",
       "      <td>1</td>\n",
       "    </tr>\n",
       "  </tbody>\n",
       "</table>\n",
       "</div>"
      ],
      "text/plain": [
       "              material_id   type language  duration_minutes\n",
       "0  DE10273658186102893108  video       en                 4\n",
       "1  DE65100778896973122987  video       en                 5\n",
       "2  DE81811499116100670121  video       en                 4\n",
       "3  DE11810611510611074981   text       en                 5\n",
       "4  DE83768011872511399827   text       de                 1"
      ]
     },
     "metadata": {},
     "output_type": "display_data"
    },
    {
     "name": "stdout",
     "output_type": "stream",
     "text": [
      "Dataframe Material_Progress:"
     ]
    },
    {
     "data": {
      "text/html": [
       "<table border=\"1\" class=\"dataframe\">\n",
       "  <thead>\n",
       "    <tr style=\"text-align: right;\">\n",
       "      <th></th>\n",
       "      <th>user_id</th>\n",
       "      <th>material_id</th>\n",
       "      <th>started_at</th>\n",
       "      <th>finished_at</th>\n",
       "    </tr>\n",
       "  </thead>\n",
       "  <tbody>\n",
       "    <tr>\n",
       "      <th>0</th>\n",
       "      <td>NVtS.3y2cqAPta8vp9mCaAn5NxToIdGRkfNn7xQx</td>\n",
       "      <td>DE98877711174670901191</td>\n",
       "      <td>2016-06-29 16:49:13.759</td>\n",
       "      <td>2016-06-29 16:53:31.886</td>\n",
       "    </tr>\n",
       "    <tr>\n",
       "      <th>1</th>\n",
       "      <td>nygas99jztQq9WZnw.6CJcn66D3274iGUz6habfD</td>\n",
       "      <td>DE12131011171121131109</td>\n",
       "      <td>2016-03-17 17:44:49.851</td>\n",
       "      <td>2016-03-17 17:44:51.412</td>\n",
       "    </tr>\n",
       "    <tr>\n",
       "      <th>2</th>\n",
       "      <td>9z09kkdnXbwIhNjrCmblpkcq2tMRD6clsOFMAd4j</td>\n",
       "      <td>DE11211470105977410790</td>\n",
       "      <td>2015-10-14 19:57:25.000</td>\n",
       "      <td>2015-10-14 19:57:28.464</td>\n",
       "    </tr>\n",
       "    <tr>\n",
       "      <th>3</th>\n",
       "      <td>zxUrSEtSJkcJ4NIXQi1NUMEGT2VeDiGU28APbHyk</td>\n",
       "      <td>DE10578698098111390901</td>\n",
       "      <td>2016-07-05 01:04:46.826</td>\n",
       "      <td>2016-07-05 01:04:48.166</td>\n",
       "    </tr>\n",
       "    <tr>\n",
       "      <th>4</th>\n",
       "      <td>WbiAkqGINB.GiElspYTwbIzFzfjI09BZAmhTl8Ff</td>\n",
       "      <td>DE86106683118467121141</td>\n",
       "      <td>2015-09-22 23:37:17.872</td>\n",
       "      <td>2015-09-22 23:53:22.468</td>\n",
       "    </tr>\n",
       "  </tbody>\n",
       "</table>"
      ],
      "text/plain": [
       "<IPython.core.display.HTML object>"
      ]
     },
     "metadata": {},
     "output_type": "display_data"
    },
    {
     "name": "stdout",
     "output_type": "stream",
     "text": [
      "Dataframe User_Skill:\n"
     ]
    },
    {
     "data": {
      "text/html": [
       "<table border=\"1\" class=\"dataframe\">\n",
       "  <thead>\n",
       "    <tr style=\"text-align: right;\">\n",
       "      <th></th>\n",
       "      <th>user_id</th>\n",
       "      <th>skill_id</th>\n",
       "      <th>is_mastered</th>\n",
       "    </tr>\n",
       "  </thead>\n",
       "  <tbody>\n",
       "    <tr>\n",
       "      <th>0</th>\n",
       "      <td>9aMTY.HhCbE.KkdjhBwLrYRGMsh7rx3wwlDOFsCK</td>\n",
       "      <td>TRFOqyu.xgwDSQg.0TZGYMGwUSC7EIbzYOqA</td>\n",
       "      <td>False</td>\n",
       "    </tr>\n",
       "    <tr>\n",
       "      <th>1</th>\n",
       "      <td>xXtwl2I6mU2BtSu8LkswN6oHtPse60m2cP4xMNXY</td>\n",
       "      <td>9ObapAwuT3A0qeinUTAc8EnScTtfyEB5c6.a</td>\n",
       "      <td>False</td>\n",
       "    </tr>\n",
       "    <tr>\n",
       "      <th>2</th>\n",
       "      <td>EpjLTGnmZ1g.Ed45Jbm85M4ZlZj814pIM5JWxAzt</td>\n",
       "      <td>9X7JnvyCgM..Pj.d.CV7bUTZ4FNM3getInnj</td>\n",
       "      <td>False</td>\n",
       "    </tr>\n",
       "    <tr>\n",
       "      <th>3</th>\n",
       "      <td>FD.CH9qTlwQOpunsPCi7CsmcGv4.GFFpkUoLWKcP</td>\n",
       "      <td>uMADoKLqo6I8cf.Q.J41Zw0GmDNwIZpZw9iQ</td>\n",
       "      <td>True</td>\n",
       "    </tr>\n",
       "    <tr>\n",
       "      <th>4</th>\n",
       "      <td>4KSDKjWfqcgDfRpLH8dBsE8e4oCFQaEKwcqTYpER</td>\n",
       "      <td>4I6eSc7imYY.iZaUKL5.Qwem0J.SY1Ja6uMd</td>\n",
       "      <td>True</td>\n",
       "    </tr>\n",
       "  </tbody>\n",
       "</table>"
      ],
      "text/plain": [
       "<IPython.core.display.HTML object>"
      ]
     },
     "metadata": {},
     "output_type": "display_data"
    }
   ],
   "source": [
    "# After reading the data, have a brief look at each data set\n",
    "\n",
    "from IPython.display import display, HTML\n",
    "\n",
    "print (\"Dataframe Material:\",end='')\n",
    "display(material.head())\n",
    "\n",
    "print (\"Dataframe Material_Progress:\", end='')\n",
    "display(HTML(material_progress.head().to_html()))\n",
    "\n",
    "print (\"Dataframe User_Skill:\")\n",
    "display(HTML(user_skill.head().to_html()))"
   ]
  },
  {
   "cell_type": "markdown",
   "id": "81635650",
   "metadata": {},
   "source": [
    "The **material table** contains information on *type, language and duration minutes* of learning materials.\n",
    "\n",
    "The **material_progress table** records all the materials a user has started and the time they finished the respective material (if at all!).\n",
    "\n",
    "The **user_skill table** records which skills a user has mastered so far."
   ]
  },
  {
   "cell_type": "code",
   "execution_count": 3,
   "id": "43d312da",
   "metadata": {},
   "outputs": [
    {
     "data": {
      "text/html": [
       "<div>\n",
       "<style scoped>\n",
       "    .dataframe tbody tr th:only-of-type {\n",
       "        vertical-align: middle;\n",
       "    }\n",
       "\n",
       "    .dataframe tbody tr th {\n",
       "        vertical-align: top;\n",
       "    }\n",
       "\n",
       "    .dataframe thead th {\n",
       "        text-align: right;\n",
       "    }\n",
       "</style>\n",
       "<table border=\"1\" class=\"dataframe\">\n",
       "  <thead>\n",
       "    <tr style=\"text-align: right;\">\n",
       "      <th></th>\n",
       "      <th>duration_minutes</th>\n",
       "    </tr>\n",
       "  </thead>\n",
       "  <tbody>\n",
       "    <tr>\n",
       "      <th>count</th>\n",
       "      <td>5108.000000</td>\n",
       "    </tr>\n",
       "    <tr>\n",
       "      <th>mean</th>\n",
       "      <td>7.047377</td>\n",
       "    </tr>\n",
       "    <tr>\n",
       "      <th>std</th>\n",
       "      <td>9.284893</td>\n",
       "    </tr>\n",
       "    <tr>\n",
       "      <th>min</th>\n",
       "      <td>0.000000</td>\n",
       "    </tr>\n",
       "    <tr>\n",
       "      <th>25%</th>\n",
       "      <td>3.000000</td>\n",
       "    </tr>\n",
       "    <tr>\n",
       "      <th>50%</th>\n",
       "      <td>5.000000</td>\n",
       "    </tr>\n",
       "    <tr>\n",
       "      <th>75%</th>\n",
       "      <td>8.000000</td>\n",
       "    </tr>\n",
       "    <tr>\n",
       "      <th>max</th>\n",
       "      <td>240.000000</td>\n",
       "    </tr>\n",
       "  </tbody>\n",
       "</table>\n",
       "</div>"
      ],
      "text/plain": [
       "       duration_minutes\n",
       "count       5108.000000\n",
       "mean           7.047377\n",
       "std            9.284893\n",
       "min            0.000000\n",
       "25%            3.000000\n",
       "50%            5.000000\n",
       "75%            8.000000\n",
       "max          240.000000"
      ]
     },
     "metadata": {},
     "output_type": "display_data"
    },
    {
     "data": {
      "text/html": [
       "<div>\n",
       "<style scoped>\n",
       "    .dataframe tbody tr th:only-of-type {\n",
       "        vertical-align: middle;\n",
       "    }\n",
       "\n",
       "    .dataframe tbody tr th {\n",
       "        vertical-align: top;\n",
       "    }\n",
       "\n",
       "    .dataframe thead th {\n",
       "        text-align: right;\n",
       "    }\n",
       "</style>\n",
       "<table border=\"1\" class=\"dataframe\">\n",
       "  <thead>\n",
       "    <tr style=\"text-align: right;\">\n",
       "      <th></th>\n",
       "      <th>user_id</th>\n",
       "      <th>material_id</th>\n",
       "      <th>started_at</th>\n",
       "      <th>finished_at</th>\n",
       "    </tr>\n",
       "  </thead>\n",
       "  <tbody>\n",
       "    <tr>\n",
       "      <th>count</th>\n",
       "      <td>34434</td>\n",
       "      <td>34434</td>\n",
       "      <td>34434</td>\n",
       "      <td>32950</td>\n",
       "    </tr>\n",
       "    <tr>\n",
       "      <th>unique</th>\n",
       "      <td>1504</td>\n",
       "      <td>3077</td>\n",
       "      <td>34434</td>\n",
       "      <td>32949</td>\n",
       "    </tr>\n",
       "    <tr>\n",
       "      <th>top</th>\n",
       "      <td>hsCIPNkZeP.wQDHuPKXAaMnuQ1nM4Vzaot9l7SjS</td>\n",
       "      <td>DE70725311411075718716</td>\n",
       "      <td>2016-06-29 16:49:13.759</td>\n",
       "      <td>2015-11-05 10:51:26.319</td>\n",
       "    </tr>\n",
       "    <tr>\n",
       "      <th>freq</th>\n",
       "      <td>243</td>\n",
       "      <td>127</td>\n",
       "      <td>1</td>\n",
       "      <td>2</td>\n",
       "    </tr>\n",
       "  </tbody>\n",
       "</table>\n",
       "</div>"
      ],
      "text/plain": [
       "                                         user_id             material_id  \\\n",
       "count                                      34434                   34434   \n",
       "unique                                      1504                    3077   \n",
       "top     hsCIPNkZeP.wQDHuPKXAaMnuQ1nM4Vzaot9l7SjS  DE70725311411075718716   \n",
       "freq                                         243                     127   \n",
       "\n",
       "                     started_at              finished_at  \n",
       "count                     34434                    32950  \n",
       "unique                    34434                    32949  \n",
       "top     2016-06-29 16:49:13.759  2015-11-05 10:51:26.319  \n",
       "freq                          1                        2  "
      ]
     },
     "metadata": {},
     "output_type": "display_data"
    },
    {
     "data": {
      "text/html": [
       "<div>\n",
       "<style scoped>\n",
       "    .dataframe tbody tr th:only-of-type {\n",
       "        vertical-align: middle;\n",
       "    }\n",
       "\n",
       "    .dataframe tbody tr th {\n",
       "        vertical-align: top;\n",
       "    }\n",
       "\n",
       "    .dataframe thead th {\n",
       "        text-align: right;\n",
       "    }\n",
       "</style>\n",
       "<table border=\"1\" class=\"dataframe\">\n",
       "  <thead>\n",
       "    <tr style=\"text-align: right;\">\n",
       "      <th></th>\n",
       "      <th>user_id</th>\n",
       "      <th>skill_id</th>\n",
       "      <th>is_mastered</th>\n",
       "    </tr>\n",
       "  </thead>\n",
       "  <tbody>\n",
       "    <tr>\n",
       "      <th>count</th>\n",
       "      <td>19125</td>\n",
       "      <td>19125</td>\n",
       "      <td>19125</td>\n",
       "    </tr>\n",
       "    <tr>\n",
       "      <th>unique</th>\n",
       "      <td>1006</td>\n",
       "      <td>2841</td>\n",
       "      <td>2</td>\n",
       "    </tr>\n",
       "    <tr>\n",
       "      <th>top</th>\n",
       "      <td>KRCU.FMaTaof0JEjOXVhyE4xxydriyWkA9kBpU1L</td>\n",
       "      <td>Lc7OxS7tU4ASNW23Ve7f9oJzfpcH10IBcKn7</td>\n",
       "      <td>True</td>\n",
       "    </tr>\n",
       "    <tr>\n",
       "      <th>freq</th>\n",
       "      <td>92</td>\n",
       "      <td>55</td>\n",
       "      <td>9611</td>\n",
       "    </tr>\n",
       "  </tbody>\n",
       "</table>\n",
       "</div>"
      ],
      "text/plain": [
       "                                         user_id  \\\n",
       "count                                      19125   \n",
       "unique                                      1006   \n",
       "top     KRCU.FMaTaof0JEjOXVhyE4xxydriyWkA9kBpU1L   \n",
       "freq                                          92   \n",
       "\n",
       "                                    skill_id is_mastered  \n",
       "count                                  19125       19125  \n",
       "unique                                  2841           2  \n",
       "top     Lc7OxS7tU4ASNW23Ve7f9oJzfpcH10IBcKn7        True  \n",
       "freq                                      55        9611  "
      ]
     },
     "metadata": {},
     "output_type": "display_data"
    }
   ],
   "source": [
    "# print some desriptive statistics\n",
    "for df in dfs:\n",
    "    #display(df.info())\n",
    "    display(df.describe())"
   ]
  },
  {
   "cell_type": "code",
   "execution_count": 4,
   "id": "886e77c3",
   "metadata": {},
   "outputs": [
    {
     "name": "stdout",
     "output_type": "stream",
     "text": [
      "False\n",
      "True\n",
      "False\n"
     ]
    }
   ],
   "source": [
    "# Check for missing values\n",
    "print(material.isnull().values.any())\n",
    "print(material_progress.isnull().values.any())\n",
    "print(user_skill.isnull().values.any())"
   ]
  },
  {
   "cell_type": "markdown",
   "id": "4ea7842b",
   "metadata": {},
   "source": [
    "The Material_progress table seems to contain missing values."
   ]
  },
  {
   "cell_type": "code",
   "execution_count": 5,
   "id": "50e02dd3",
   "metadata": {},
   "outputs": [
    {
     "data": {
      "text/plain": [
       "user_id           0\n",
       "material_id       0\n",
       "started_at        0\n",
       "finished_at    1484\n",
       "dtype: int64"
      ]
     },
     "execution_count": 5,
     "metadata": {},
     "output_type": "execute_result"
    }
   ],
   "source": [
    "material_progress.isna().sum()"
   ]
  },
  {
   "cell_type": "markdown",
   "id": "d8862332",
   "metadata": {},
   "source": [
    "Missing value in the finished_at column of the material_progress table indicates that the user has not finished the material yet."
   ]
  },
  {
   "cell_type": "markdown",
   "id": "85a827b9",
   "metadata": {},
   "source": [
    "## The challenges"
   ]
  },
  {
   "cell_type": "markdown",
   "id": "06cea388",
   "metadata": {},
   "source": [
    "### Learning times"
   ]
  },
  {
   "cell_type": "markdown",
   "id": "ff37fae3",
   "metadata": {},
   "source": [
    "1. Perform a short general analysis of the data at hand to gain a general overview (some KPIs or other useful information about the dataset itself). **Done above**\n",
    "2. Analyze the learning progress of our learners: \n",
    "    1. Do actual learning times deviate from our estimated learning times? \n",
    "    2. Do the results differ between different types or languages of materials?\n",
    "    3. Can you detect learners who might be \"cheating\" with their learning progress (i.e., who probably have not been consuming the learning material) from the data? \n",
    "3. What other information can you derive from the data?"
   ]
  },
  {
   "cell_type": "markdown",
   "id": "b844c0c8",
   "metadata": {},
   "source": [
    "#### 2. Analysis of learning progress"
   ]
  },
  {
   "cell_type": "code",
   "execution_count": 6,
   "id": "26ef35c7",
   "metadata": {},
   "outputs": [
    {
     "data": {
      "text/plain": [
       "array([[<AxesSubplot:title={'center':'duration_minutes'}>]], dtype=object)"
      ]
     },
     "execution_count": 6,
     "metadata": {},
     "output_type": "execute_result"
    },
    {
     "data": {
      "image/png": "[encoded data removed]",
      "text/plain": [
       "<Figure size 432x288 with 1 Axes>"
      ]
     },
     "metadata": {
      "needs_background": "light"
     },
     "output_type": "display_data"
    }
   ],
   "source": [
    "# At first, visualize the material duration_minutes to see if anything stands out\n",
    "\n",
    "import matplotlib.pyplot as plt\n",
    "material.hist(column=\"duration_minutes\", bins = 30)"
   ]
  },
  {
   "cell_type": "code",
   "execution_count": 7,
   "id": "715b795c",
   "metadata": {},
   "outputs": [
    {
     "data": {
      "text/html": [
       "<div>\n",
       "<style scoped>\n",
       "    .dataframe tbody tr th:only-of-type {\n",
       "        vertical-align: middle;\n",
       "    }\n",
       "\n",
       "    .dataframe tbody tr th {\n",
       "        vertical-align: top;\n",
       "    }\n",
       "\n",
       "    .dataframe thead th {\n",
       "        text-align: right;\n",
       "    }\n",
       "</style>\n",
       "<table border=\"1\" class=\"dataframe\">\n",
       "  <thead>\n",
       "    <tr style=\"text-align: right;\">\n",
       "      <th></th>\n",
       "      <th>material_id</th>\n",
       "      <th>type</th>\n",
       "      <th>language</th>\n",
       "      <th>duration_minutes</th>\n",
       "    </tr>\n",
       "  </thead>\n",
       "  <tbody>\n",
       "    <tr>\n",
       "      <th>1148</th>\n",
       "      <td>DE97580466559010090837</td>\n",
       "      <td>video</td>\n",
       "      <td>en</td>\n",
       "      <td>240</td>\n",
       "    </tr>\n",
       "    <tr>\n",
       "      <th>1467</th>\n",
       "      <td>DE77118113115978898261</td>\n",
       "      <td>video</td>\n",
       "      <td>en</td>\n",
       "      <td>180</td>\n",
       "    </tr>\n",
       "    <tr>\n",
       "      <th>1512</th>\n",
       "      <td>DE91076583821154864672</td>\n",
       "      <td>video</td>\n",
       "      <td>en</td>\n",
       "      <td>180</td>\n",
       "    </tr>\n",
       "    <tr>\n",
       "      <th>2607</th>\n",
       "      <td>DE85105871114871101009</td>\n",
       "      <td>video</td>\n",
       "      <td>en</td>\n",
       "      <td>180</td>\n",
       "    </tr>\n",
       "    <tr>\n",
       "      <th>2729</th>\n",
       "      <td>DE11511139781001088611</td>\n",
       "      <td>interactive</td>\n",
       "      <td>en</td>\n",
       "      <td>180</td>\n",
       "    </tr>\n",
       "    <tr>\n",
       "      <th>3168</th>\n",
       "      <td>DE67802868166821149776</td>\n",
       "      <td>text</td>\n",
       "      <td>de</td>\n",
       "      <td>150</td>\n",
       "    </tr>\n",
       "    <tr>\n",
       "      <th>156</th>\n",
       "      <td>DE12212211211386751039</td>\n",
       "      <td>interactive</td>\n",
       "      <td>en</td>\n",
       "      <td>120</td>\n",
       "    </tr>\n",
       "    <tr>\n",
       "      <th>3846</th>\n",
       "      <td>DE69010569871037511880</td>\n",
       "      <td>video</td>\n",
       "      <td>en</td>\n",
       "      <td>103</td>\n",
       "    </tr>\n",
       "  </tbody>\n",
       "</table>\n",
       "</div>"
      ],
      "text/plain": [
       "                 material_id         type language  duration_minutes\n",
       "1148  DE97580466559010090837        video       en               240\n",
       "1467  DE77118113115978898261        video       en               180\n",
       "1512  DE91076583821154864672        video       en               180\n",
       "2607  DE85105871114871101009        video       en               180\n",
       "2729  DE11511139781001088611  interactive       en               180\n",
       "3168  DE67802868166821149776         text       de               150\n",
       "156   DE12212211211386751039  interactive       en               120\n",
       "3846  DE69010569871037511880        video       en               103"
      ]
     },
     "metadata": {},
     "output_type": "display_data"
    }
   ],
   "source": [
    "display(material.loc[material[\"duration_minutes\"]>100].sort_values(by=\"duration_minutes\", ascending=False))"
   ]
  },
  {
   "cell_type": "markdown",
   "id": "16cf193f",
   "metadata": {},
   "source": [
    "There seem to be only few materials with an estimated duration of >100 minutes\n",
    "\n",
    "From the analysis at the beginning we know, that the *average duration_minutes is 7.047377*"
   ]
  },
  {
   "cell_type": "code",
   "execution_count": 8,
   "id": "5bbbf91d",
   "metadata": {},
   "outputs": [],
   "source": [
    "# Add a column to the material_progress dataframe that indicates the material completion duration\n",
    "\n",
    "# Thanks to stackoverflow\n",
    "from datetime import datetime\n",
    "\n",
    "def calc_dur(tstamp1, tstamp2):\n",
    "    fmt = '%Y-%m-%d %H:%M:%S.%f'\n",
    "    tstamp1 = datetime.strptime(tstamp1, fmt)\n",
    "    tstamp2 = datetime.strptime(tstamp2, fmt)\n",
    "\n",
    "    if tstamp1 > tstamp2:\n",
    "        td = tstamp1 - tstamp2\n",
    "    else:\n",
    "        td = tstamp2 - tstamp1\n",
    "    \n",
    "    #print(int(round(td.total_seconds()/60)))\n",
    "    \n",
    "    #return time difference in minutes, neglect seconds for now\n",
    "    return int(round(td.total_seconds()/60))"
   ]
  },
  {
   "cell_type": "code",
   "execution_count": 9,
   "id": "ffd64a5e",
   "metadata": {},
   "outputs": [
    {
     "name": "stdout",
     "output_type": "stream",
     "text": [
      "(34434, 4)\n",
      "(32950, 4)\n",
      "Dropped  1484 columns.\n"
     ]
    }
   ],
   "source": [
    "# We can only calculate that duration for completed materials.\n",
    "# Hence, drop rows with materials that users have not finished yet\n",
    "\n",
    "material_progress_2 = material_progress[material_progress[\"finished_at\"].notna()]\n",
    "\n",
    "print(material_progress.shape)\n",
    "print(material_progress_2.shape)\n",
    "print(\"Dropped \", material_progress.shape[0]-material_progress_2.shape[0], \"columns.\")"
   ]
  },
  {
   "cell_type": "code",
   "execution_count": 10,
   "id": "6a049d61",
   "metadata": {},
   "outputs": [
    {
     "data": {
      "text/plain": [
       "0         4\n",
       "1         0\n",
       "2         0\n",
       "3         0\n",
       "4        16\n",
       "         ..\n",
       "34429    16\n",
       "34430     2\n",
       "34431     5\n",
       "34432     5\n",
       "34433     0\n",
       "Length: 32950, dtype: int64"
      ]
     },
     "execution_count": 10,
     "metadata": {},
     "output_type": "execute_result"
    }
   ],
   "source": [
    "# Check how the new column will look like\n",
    "material_progress_2.apply (lambda row: calc_dur(row.started_at, row.finished_at), axis=1)"
   ]
  },
  {
   "cell_type": "code",
   "execution_count": 65,
   "id": "651eb014",
   "metadata": {},
   "outputs": [],
   "source": [
    "pd.options.mode.chained_assignment = None # Following assignment triggers a (false positive) warning\n",
    "material_progress_2[\"completion_duration\"] = material_progress_2.apply (lambda row: calc_dur(row.started_at, row.finished_at), axis=1)"
   ]
  },
  {
   "cell_type": "code",
   "execution_count": 12,
   "id": "835ca0f5",
   "metadata": {},
   "outputs": [
    {
     "data": {
      "text/html": [
       "<div>\n",
       "<style scoped>\n",
       "    .dataframe tbody tr th:only-of-type {\n",
       "        vertical-align: middle;\n",
       "    }\n",
       "\n",
       "    .dataframe tbody tr th {\n",
       "        vertical-align: top;\n",
       "    }\n",
       "\n",
       "    .dataframe thead th {\n",
       "        text-align: right;\n",
       "    }\n",
       "</style>\n",
       "<table border=\"1\" class=\"dataframe\">\n",
       "  <thead>\n",
       "    <tr style=\"text-align: right;\">\n",
       "      <th></th>\n",
       "      <th>user_id</th>\n",
       "      <th>material_id</th>\n",
       "      <th>started_at</th>\n",
       "      <th>finished_at</th>\n",
       "      <th>completion_duration</th>\n",
       "    </tr>\n",
       "  </thead>\n",
       "  <tbody>\n",
       "    <tr>\n",
       "      <th>0</th>\n",
       "      <td>NVtS.3y2cqAPta8vp9mCaAn5NxToIdGRkfNn7xQx</td>\n",
       "      <td>DE98877711174670901191</td>\n",
       "      <td>2016-06-29 16:49:13.759</td>\n",
       "      <td>2016-06-29 16:53:31.886</td>\n",
       "      <td>4</td>\n",
       "    </tr>\n",
       "    <tr>\n",
       "      <th>1</th>\n",
       "      <td>nygas99jztQq9WZnw.6CJcn66D3274iGUz6habfD</td>\n",
       "      <td>DE12131011171121131109</td>\n",
       "      <td>2016-03-17 17:44:49.851</td>\n",
       "      <td>2016-03-17 17:44:51.412</td>\n",
       "      <td>0</td>\n",
       "    </tr>\n",
       "    <tr>\n",
       "      <th>2</th>\n",
       "      <td>9z09kkdnXbwIhNjrCmblpkcq2tMRD6clsOFMAd4j</td>\n",
       "      <td>DE11211470105977410790</td>\n",
       "      <td>2015-10-14 19:57:25.000</td>\n",
       "      <td>2015-10-14 19:57:28.464</td>\n",
       "      <td>0</td>\n",
       "    </tr>\n",
       "    <tr>\n",
       "      <th>3</th>\n",
       "      <td>zxUrSEtSJkcJ4NIXQi1NUMEGT2VeDiGU28APbHyk</td>\n",
       "      <td>DE10578698098111390901</td>\n",
       "      <td>2016-07-05 01:04:46.826</td>\n",
       "      <td>2016-07-05 01:04:48.166</td>\n",
       "      <td>0</td>\n",
       "    </tr>\n",
       "    <tr>\n",
       "      <th>4</th>\n",
       "      <td>WbiAkqGINB.GiElspYTwbIzFzfjI09BZAmhTl8Ff</td>\n",
       "      <td>DE86106683118467121141</td>\n",
       "      <td>2015-09-22 23:37:17.872</td>\n",
       "      <td>2015-09-22 23:53:22.468</td>\n",
       "      <td>16</td>\n",
       "    </tr>\n",
       "  </tbody>\n",
       "</table>\n",
       "</div>"
      ],
      "text/plain": [
       "                                    user_id             material_id  \\\n",
       "0  NVtS.3y2cqAPta8vp9mCaAn5NxToIdGRkfNn7xQx  DE98877711174670901191   \n",
       "1  nygas99jztQq9WZnw.6CJcn66D3274iGUz6habfD  DE12131011171121131109   \n",
       "2  9z09kkdnXbwIhNjrCmblpkcq2tMRD6clsOFMAd4j  DE11211470105977410790   \n",
       "3  zxUrSEtSJkcJ4NIXQi1NUMEGT2VeDiGU28APbHyk  DE10578698098111390901   \n",
       "4  WbiAkqGINB.GiElspYTwbIzFzfjI09BZAmhTl8Ff  DE86106683118467121141   \n",
       "\n",
       "                started_at              finished_at  completion_duration  \n",
       "0  2016-06-29 16:49:13.759  2016-06-29 16:53:31.886                    4  \n",
       "1  2016-03-17 17:44:49.851  2016-03-17 17:44:51.412                    0  \n",
       "2  2015-10-14 19:57:25.000  2015-10-14 19:57:28.464                    0  \n",
       "3  2016-07-05 01:04:46.826  2016-07-05 01:04:48.166                    0  \n",
       "4  2015-09-22 23:37:17.872  2015-09-22 23:53:22.468                   16  "
      ]
     },
     "execution_count": 12,
     "metadata": {},
     "output_type": "execute_result"
    }
   ],
   "source": [
    "material_progress_2.head()"
   ]
  },
  {
   "cell_type": "code",
   "execution_count": 13,
   "id": "3c737e1c",
   "metadata": {},
   "outputs": [
    {
     "data": {
      "text/plain": [
       "array([[<AxesSubplot:title={'center':'completion_duration'}>]],\n",
       "      dtype=object)"
      ]
     },
     "execution_count": 13,
     "metadata": {},
     "output_type": "execute_result"
    },
    {
     "data": {
      "image/png": "[encoded data removed]",
      "text/plain": [
       "<Figure size 432x288 with 1 Axes>"
      ]
     },
     "metadata": {
      "needs_background": "light"
     },
     "output_type": "display_data"
    }
   ],
   "source": [
    "material_progress_2.loc[material_progress_2[\"completion_duration\"]<1000].hist(column=\"completion_duration\", bins = 30)"
   ]
  },
  {
   "cell_type": "code",
   "execution_count": 14,
   "id": "8f8f76b1",
   "metadata": {},
   "outputs": [
    {
     "data": {
      "text/plain": [
       "array([[<AxesSubplot:title={'center':'completion_duration'}>]],\n",
       "      dtype=object)"
      ]
     },
     "execution_count": 14,
     "metadata": {},
     "output_type": "execute_result"
    },
    {
     "data": {
      "image/png": "[encoded data removed]",
      "text/plain": [
       "<Figure size 432x288 with 1 Axes>"
      ]
     },
     "metadata": {
      "needs_background": "light"
     },
     "output_type": "display_data"
    }
   ],
   "source": [
    "# It appears we have some strong outliers in the data.\n",
    "# I'd recommend analyzing these outliers and deciding on a strategy to deal with them.\n",
    "\n",
    "# In this challenge I will just omit completion durations above 150 minutes to not let the outliers influence the\n",
    "# mean completion duration too much.\n",
    "\n",
    "material_progress_2.loc[material_progress_2[\"completion_duration\"]<150].hist(column=\"completion_duration\", bins = 30)"
   ]
  },
  {
   "cell_type": "code",
   "execution_count": 15,
   "id": "45c00477",
   "metadata": {},
   "outputs": [],
   "source": [
    "# Actually filter the dataframe\n",
    "df = material_progress_2.loc[material_progress_2[\"completion_duration\"]<150]"
   ]
  },
  {
   "cell_type": "code",
   "execution_count": 16,
   "id": "2070eff0",
   "metadata": {},
   "outputs": [],
   "source": [
    "# Next up: Calculate the deviation of estimated learning time from the actual completion duration\n",
    "df_completion = df.groupby(['material_id']).mean(\"completion_duration\")"
   ]
  },
  {
   "cell_type": "code",
   "execution_count": 17,
   "id": "291553b8",
   "metadata": {},
   "outputs": [
    {
     "data": {
      "text/html": [
       "<div>\n",
       "<style scoped>\n",
       "    .dataframe tbody tr th:only-of-type {\n",
       "        vertical-align: middle;\n",
       "    }\n",
       "\n",
       "    .dataframe tbody tr th {\n",
       "        vertical-align: top;\n",
       "    }\n",
       "\n",
       "    .dataframe thead th {\n",
       "        text-align: right;\n",
       "    }\n",
       "</style>\n",
       "<table border=\"1\" class=\"dataframe\">\n",
       "  <thead>\n",
       "    <tr style=\"text-align: right;\">\n",
       "      <th></th>\n",
       "      <th>material_id</th>\n",
       "      <th>completion_duration</th>\n",
       "      <th>type</th>\n",
       "      <th>language</th>\n",
       "      <th>duration_minutes</th>\n",
       "    </tr>\n",
       "  </thead>\n",
       "  <tbody>\n",
       "    <tr>\n",
       "      <th>0</th>\n",
       "      <td>DE10010111280784688110</td>\n",
       "      <td>2.920000</td>\n",
       "      <td>video</td>\n",
       "      <td>de</td>\n",
       "      <td>6</td>\n",
       "    </tr>\n",
       "    <tr>\n",
       "      <th>1</th>\n",
       "      <td>DE10010246117994100398</td>\n",
       "      <td>12.750000</td>\n",
       "      <td>video</td>\n",
       "      <td>en</td>\n",
       "      <td>15</td>\n",
       "    </tr>\n",
       "    <tr>\n",
       "      <th>2</th>\n",
       "      <td>DE10010372115610210884</td>\n",
       "      <td>2.666667</td>\n",
       "      <td>text</td>\n",
       "      <td>en</td>\n",
       "      <td>2</td>\n",
       "    </tr>\n",
       "    <tr>\n",
       "      <th>3</th>\n",
       "      <td>DE10010410382460105821</td>\n",
       "      <td>1.261905</td>\n",
       "      <td>video</td>\n",
       "      <td>de</td>\n",
       "      <td>1</td>\n",
       "    </tr>\n",
       "    <tr>\n",
       "      <th>4</th>\n",
       "      <td>DE10010411010110382880</td>\n",
       "      <td>9.125000</td>\n",
       "      <td>video</td>\n",
       "      <td>de</td>\n",
       "      <td>9</td>\n",
       "    </tr>\n",
       "    <tr>\n",
       "      <th>...</th>\n",
       "      <td>...</td>\n",
       "      <td>...</td>\n",
       "      <td>...</td>\n",
       "      <td>...</td>\n",
       "      <td>...</td>\n",
       "    </tr>\n",
       "    <tr>\n",
       "      <th>2951</th>\n",
       "      <td>DE99983847484731071197</td>\n",
       "      <td>2.800000</td>\n",
       "      <td>video</td>\n",
       "      <td>en</td>\n",
       "      <td>1</td>\n",
       "    </tr>\n",
       "    <tr>\n",
       "      <th>2952</th>\n",
       "      <td>DE99986665117974679811</td>\n",
       "      <td>5.230769</td>\n",
       "      <td>video</td>\n",
       "      <td>en</td>\n",
       "      <td>4</td>\n",
       "    </tr>\n",
       "    <tr>\n",
       "      <th>2953</th>\n",
       "      <td>DE99987103858498764690</td>\n",
       "      <td>10.600000</td>\n",
       "      <td>video</td>\n",
       "      <td>en</td>\n",
       "      <td>6</td>\n",
       "    </tr>\n",
       "    <tr>\n",
       "      <th>2954</th>\n",
       "      <td>DE99988789117119122111</td>\n",
       "      <td>0.900000</td>\n",
       "      <td>video</td>\n",
       "      <td>de</td>\n",
       "      <td>1</td>\n",
       "    </tr>\n",
       "    <tr>\n",
       "      <th>2955</th>\n",
       "      <td>DE99991001191184108410</td>\n",
       "      <td>5.169811</td>\n",
       "      <td>video</td>\n",
       "      <td>en</td>\n",
       "      <td>4</td>\n",
       "    </tr>\n",
       "  </tbody>\n",
       "</table>\n",
       "<p>2956 rows × 5 columns</p>\n",
       "</div>"
      ],
      "text/plain": [
       "                 material_id  completion_duration   type language  \\\n",
       "0     DE10010111280784688110             2.920000  video       de   \n",
       "1     DE10010246117994100398            12.750000  video       en   \n",
       "2     DE10010372115610210884             2.666667   text       en   \n",
       "3     DE10010410382460105821             1.261905  video       de   \n",
       "4     DE10010411010110382880             9.125000  video       de   \n",
       "...                      ...                  ...    ...      ...   \n",
       "2951  DE99983847484731071197             2.800000  video       en   \n",
       "2952  DE99986665117974679811             5.230769  video       en   \n",
       "2953  DE99987103858498764690            10.600000  video       en   \n",
       "2954  DE99988789117119122111             0.900000  video       de   \n",
       "2955  DE99991001191184108410             5.169811  video       en   \n",
       "\n",
       "      duration_minutes  \n",
       "0                    6  \n",
       "1                   15  \n",
       "2                    2  \n",
       "3                    1  \n",
       "4                    9  \n",
       "...                ...  \n",
       "2951                 1  \n",
       "2952                 4  \n",
       "2953                 6  \n",
       "2954                 1  \n",
       "2955                 4  \n",
       "\n",
       "[2956 rows x 5 columns]"
      ]
     },
     "execution_count": 17,
     "metadata": {},
     "output_type": "execute_result"
    }
   ],
   "source": [
    "result = pd.merge(df_completion, material, how =\"left\", on=\"material_id\")\n",
    "result"
   ]
  },
  {
   "cell_type": "markdown",
   "id": "ec88ebb3",
   "metadata": {},
   "source": [
    "**A: Do actual learning times deviate from our estimated learning times?**"
   ]
  },
  {
   "cell_type": "code",
   "execution_count": 18,
   "id": "20b296db",
   "metadata": {},
   "outputs": [
    {
     "name": "stdout",
     "output_type": "stream",
     "text": [
      "Answer to A\n",
      "\n",
      "The average deviation (in minutes) between the estimated material completion duration and \n",
      " actual material completion duration is:  0.26897027889498926\n"
     ]
    }
   ],
   "source": [
    "print(\"Answer to A\")\n",
    "print()\n",
    "print(\"The average deviation (in minutes) between the estimated material completion duration and \\n\",\n",
    "      \"actual material completion duration is: \", \n",
    "    abs(result[\"completion_duration\"].mean() - result[\"duration_minutes\"].mean()))"
   ]
  },
  {
   "cell_type": "markdown",
   "id": "379cd1aa",
   "metadata": {},
   "source": [
    "**B: Do the results differ between different types or languages of materials?**"
   ]
  },
  {
   "cell_type": "code",
   "execution_count": 19,
   "id": "626ca18f",
   "metadata": {},
   "outputs": [
    {
     "data": {
      "text/html": [
       "<div>\n",
       "<style scoped>\n",
       "    .dataframe tbody tr th:only-of-type {\n",
       "        vertical-align: middle;\n",
       "    }\n",
       "\n",
       "    .dataframe tbody tr th {\n",
       "        vertical-align: top;\n",
       "    }\n",
       "\n",
       "    .dataframe thead th {\n",
       "        text-align: right;\n",
       "    }\n",
       "</style>\n",
       "<table border=\"1\" class=\"dataframe\">\n",
       "  <thead>\n",
       "    <tr style=\"text-align: right;\">\n",
       "      <th></th>\n",
       "      <th>completion_duration</th>\n",
       "      <th>duration_minutes</th>\n",
       "    </tr>\n",
       "    <tr>\n",
       "      <th>type</th>\n",
       "      <th></th>\n",
       "      <th></th>\n",
       "    </tr>\n",
       "  </thead>\n",
       "  <tbody>\n",
       "    <tr>\n",
       "      <th>interactive</th>\n",
       "      <td>8.522360</td>\n",
       "      <td>13.691358</td>\n",
       "    </tr>\n",
       "    <tr>\n",
       "      <th>text</th>\n",
       "      <td>5.472149</td>\n",
       "      <td>6.845855</td>\n",
       "    </tr>\n",
       "    <tr>\n",
       "      <th>video</th>\n",
       "      <td>6.909707</td>\n",
       "      <td>6.584403</td>\n",
       "    </tr>\n",
       "  </tbody>\n",
       "</table>\n",
       "</div>"
      ],
      "text/plain": [
       "             completion_duration  duration_minutes\n",
       "type                                              \n",
       "interactive             8.522360         13.691358\n",
       "text                    5.472149          6.845855\n",
       "video                   6.909707          6.584403"
      ]
     },
     "execution_count": 19,
     "metadata": {},
     "output_type": "execute_result"
    }
   ],
   "source": [
    "result_1 = result.groupby(by=\"type\").agg('mean')\n",
    "result_1"
   ]
  },
  {
   "cell_type": "code",
   "execution_count": 20,
   "id": "7999b195",
   "metadata": {},
   "outputs": [
    {
     "data": {
      "text/html": [
       "<div>\n",
       "<style scoped>\n",
       "    .dataframe tbody tr th:only-of-type {\n",
       "        vertical-align: middle;\n",
       "    }\n",
       "\n",
       "    .dataframe tbody tr th {\n",
       "        vertical-align: top;\n",
       "    }\n",
       "\n",
       "    .dataframe thead th {\n",
       "        text-align: right;\n",
       "    }\n",
       "</style>\n",
       "<table border=\"1\" class=\"dataframe\">\n",
       "  <thead>\n",
       "    <tr style=\"text-align: right;\">\n",
       "      <th></th>\n",
       "      <th>completion_duration</th>\n",
       "      <th>duration_minutes</th>\n",
       "      <th>deviation</th>\n",
       "    </tr>\n",
       "    <tr>\n",
       "      <th>type</th>\n",
       "      <th></th>\n",
       "      <th></th>\n",
       "      <th></th>\n",
       "    </tr>\n",
       "  </thead>\n",
       "  <tbody>\n",
       "    <tr>\n",
       "      <th>interactive</th>\n",
       "      <td>8.522360</td>\n",
       "      <td>13.691358</td>\n",
       "      <td>5.168998</td>\n",
       "    </tr>\n",
       "    <tr>\n",
       "      <th>text</th>\n",
       "      <td>5.472149</td>\n",
       "      <td>6.845855</td>\n",
       "      <td>1.373706</td>\n",
       "    </tr>\n",
       "    <tr>\n",
       "      <th>video</th>\n",
       "      <td>6.909707</td>\n",
       "      <td>6.584403</td>\n",
       "      <td>0.325304</td>\n",
       "    </tr>\n",
       "  </tbody>\n",
       "</table>\n",
       "</div>"
      ],
      "text/plain": [
       "             completion_duration  duration_minutes  deviation\n",
       "type                                                         \n",
       "interactive             8.522360         13.691358   5.168998\n",
       "text                    5.472149          6.845855   1.373706\n",
       "video                   6.909707          6.584403   0.325304"
      ]
     },
     "execution_count": 20,
     "metadata": {},
     "output_type": "execute_result"
    }
   ],
   "source": [
    "result_1[\"deviation\"] = abs(result.groupby(by=\"type\").agg('mean').iloc[:,0] - result.groupby(by=\"type\").agg('mean').iloc[:,1])\n",
    "result_1"
   ]
  },
  {
   "cell_type": "markdown",
   "id": "406b2908",
   "metadata": {},
   "source": [
    "The deviations vary strongly between different types of materials.\n",
    "\n",
    "i.e. the deviation between estimated and average learning times is 3.76 times stronger for interactive content than text content."
   ]
  },
  {
   "cell_type": "code",
   "execution_count": 21,
   "id": "49e46243",
   "metadata": {},
   "outputs": [
    {
     "data": {
      "text/html": [
       "<div>\n",
       "<style scoped>\n",
       "    .dataframe tbody tr th:only-of-type {\n",
       "        vertical-align: middle;\n",
       "    }\n",
       "\n",
       "    .dataframe tbody tr th {\n",
       "        vertical-align: top;\n",
       "    }\n",
       "\n",
       "    .dataframe thead th {\n",
       "        text-align: right;\n",
       "    }\n",
       "</style>\n",
       "<table border=\"1\" class=\"dataframe\">\n",
       "  <thead>\n",
       "    <tr style=\"text-align: right;\">\n",
       "      <th></th>\n",
       "      <th>completion_duration</th>\n",
       "      <th>duration_minutes</th>\n",
       "      <th>deviation</th>\n",
       "    </tr>\n",
       "    <tr>\n",
       "      <th>language</th>\n",
       "      <th></th>\n",
       "      <th></th>\n",
       "      <th></th>\n",
       "    </tr>\n",
       "  </thead>\n",
       "  <tbody>\n",
       "    <tr>\n",
       "      <th>de</th>\n",
       "      <td>4.265359</td>\n",
       "      <td>5.421937</td>\n",
       "      <td>1.156577</td>\n",
       "    </tr>\n",
       "    <tr>\n",
       "      <th>en</th>\n",
       "      <td>7.782603</td>\n",
       "      <td>7.589506</td>\n",
       "      <td>0.193097</td>\n",
       "    </tr>\n",
       "  </tbody>\n",
       "</table>\n",
       "</div>"
      ],
      "text/plain": [
       "          completion_duration  duration_minutes  deviation\n",
       "language                                                  \n",
       "de                   4.265359          5.421937   1.156577\n",
       "en                   7.782603          7.589506   0.193097"
      ]
     },
     "execution_count": 21,
     "metadata": {},
     "output_type": "execute_result"
    }
   ],
   "source": [
    "result_2 = result.groupby(by=\"language\").agg('mean')\n",
    "result_2[\"deviation\"] = abs(result.groupby(by=\"language\").agg('mean').iloc[:,0] - result.groupby(by=\"language\").agg('mean').iloc[:,1])\n",
    "result_2"
   ]
  },
  {
   "cell_type": "markdown",
   "id": "62f0a224",
   "metadata": {},
   "source": [
    "Furthermore, the estimated duration time for englisch materials seems to fit the actual completion duration better than german materials."
   ]
  },
  {
   "cell_type": "code",
   "execution_count": 33,
   "id": "af4f7876",
   "metadata": {},
   "outputs": [
    {
     "data": {
      "text/html": [
       "<div>\n",
       "<style scoped>\n",
       "    .dataframe tbody tr th:only-of-type {\n",
       "        vertical-align: middle;\n",
       "    }\n",
       "\n",
       "    .dataframe tbody tr th {\n",
       "        vertical-align: top;\n",
       "    }\n",
       "\n",
       "    .dataframe thead th {\n",
       "        text-align: right;\n",
       "    }\n",
       "</style>\n",
       "<table border=\"1\" class=\"dataframe\">\n",
       "  <thead>\n",
       "    <tr style=\"text-align: right;\">\n",
       "      <th></th>\n",
       "      <th>language</th>\n",
       "      <th>type</th>\n",
       "      <th>counts</th>\n",
       "    </tr>\n",
       "  </thead>\n",
       "  <tbody>\n",
       "    <tr>\n",
       "      <th>0</th>\n",
       "      <td>de</td>\n",
       "      <td>interactive</td>\n",
       "      <td>21</td>\n",
       "    </tr>\n",
       "    <tr>\n",
       "      <th>1</th>\n",
       "      <td>de</td>\n",
       "      <td>text</td>\n",
       "      <td>307</td>\n",
       "    </tr>\n",
       "    <tr>\n",
       "      <th>2</th>\n",
       "      <td>de</td>\n",
       "      <td>video</td>\n",
       "      <td>684</td>\n",
       "    </tr>\n",
       "    <tr>\n",
       "      <th>3</th>\n",
       "      <td>en</td>\n",
       "      <td>interactive</td>\n",
       "      <td>60</td>\n",
       "    </tr>\n",
       "    <tr>\n",
       "      <th>4</th>\n",
       "      <td>en</td>\n",
       "      <td>text</td>\n",
       "      <td>465</td>\n",
       "    </tr>\n",
       "    <tr>\n",
       "      <th>5</th>\n",
       "      <td>en</td>\n",
       "      <td>video</td>\n",
       "      <td>1419</td>\n",
       "    </tr>\n",
       "  </tbody>\n",
       "</table>\n",
       "</div>"
      ],
      "text/plain": [
       "  language         type  counts\n",
       "0       de  interactive      21\n",
       "1       de         text     307\n",
       "2       de        video     684\n",
       "3       en  interactive      60\n",
       "4       en         text     465\n",
       "5       en        video    1419"
      ]
     },
     "execution_count": 33,
     "metadata": {},
     "output_type": "execute_result"
    }
   ],
   "source": [
    "result.groupby([\"language\", \"type\"]).size().reset_index(name='counts')"
   ]
  },
  {
   "cell_type": "code",
   "execution_count": 34,
   "id": "7424b137",
   "metadata": {},
   "outputs": [
    {
     "name": "stdout",
     "output_type": "stream",
     "text": [
      "The german video to overall content ratio is  0.6758893280632411\n",
      "\n",
      "The english video to overall content ratio is  0.7299382716049383\n"
     ]
    }
   ],
   "source": [
    "print(\"The german video to overall content ratio is \",684/(21+307+684))\n",
    "print()\n",
    "print(\"The english video to overall content ratio is \",1419/(60+465+1419))"
   ]
  },
  {
   "cell_type": "markdown",
   "id": "93c53948",
   "metadata": {},
   "source": [
    "*My hypothesis: The more accurate learning time estimates for english content can be (at least partially) explained\n",
    "by the higher video to content ratio (as seen above, estimated completion times for video content are most accurate) and overall more data*"
   ]
  },
  {
   "cell_type": "markdown",
   "id": "abe6c3dd",
   "metadata": {},
   "source": [
    "**C: Can you detect learners who might be \"cheating\" with their learning progress (i.e., who probably have not been consuming the learning material) from the data?**"
   ]
  },
  {
   "cell_type": "markdown",
   "id": "e6978fc4",
   "metadata": {},
   "source": [
    "For this task we need to define what cheating means in terms of material completion time:\n",
    "\n",
    "**Let's say someone is cheating on a material when he or she finishes the given material in below half of the estimated duration.**\n",
    "\n",
    "Notice!\n",
    "(This isn't optimal, as the learner might already know the material and skips it as a consequence. This should be allowed for some materials curated in a learning path or skill and isn't neccessarily cheating. However, we don't know which material_ids belong to which learning path and therefore can't check the percentage of materials in a given learning path a learner might've cheated on.)"
   ]
  },
  {
   "cell_type": "code",
   "execution_count": 23,
   "id": "9270f8b6",
   "metadata": {},
   "outputs": [
    {
     "data": {
      "text/html": [
       "<div>\n",
       "<style scoped>\n",
       "    .dataframe tbody tr th:only-of-type {\n",
       "        vertical-align: middle;\n",
       "    }\n",
       "\n",
       "    .dataframe tbody tr th {\n",
       "        vertical-align: top;\n",
       "    }\n",
       "\n",
       "    .dataframe thead th {\n",
       "        text-align: right;\n",
       "    }\n",
       "</style>\n",
       "<table border=\"1\" class=\"dataframe\">\n",
       "  <thead>\n",
       "    <tr style=\"text-align: right;\">\n",
       "      <th></th>\n",
       "      <th>user_id</th>\n",
       "      <th>material_id</th>\n",
       "      <th>started_at</th>\n",
       "      <th>finished_at</th>\n",
       "      <th>completion_duration</th>\n",
       "      <th>type</th>\n",
       "      <th>language</th>\n",
       "      <th>duration_minutes</th>\n",
       "    </tr>\n",
       "  </thead>\n",
       "  <tbody>\n",
       "    <tr>\n",
       "      <th>0</th>\n",
       "      <td>NVtS.3y2cqAPta8vp9mCaAn5NxToIdGRkfNn7xQx</td>\n",
       "      <td>DE98877711174670901191</td>\n",
       "      <td>2016-06-29 16:49:13.759</td>\n",
       "      <td>2016-06-29 16:53:31.886</td>\n",
       "      <td>4</td>\n",
       "      <td>video</td>\n",
       "      <td>de</td>\n",
       "      <td>4</td>\n",
       "    </tr>\n",
       "    <tr>\n",
       "      <th>1</th>\n",
       "      <td>nygas99jztQq9WZnw.6CJcn66D3274iGUz6habfD</td>\n",
       "      <td>DE12131011171121131109</td>\n",
       "      <td>2016-03-17 17:44:49.851</td>\n",
       "      <td>2016-03-17 17:44:51.412</td>\n",
       "      <td>0</td>\n",
       "      <td>text</td>\n",
       "      <td>de</td>\n",
       "      <td>10</td>\n",
       "    </tr>\n",
       "    <tr>\n",
       "      <th>2</th>\n",
       "      <td>9z09kkdnXbwIhNjrCmblpkcq2tMRD6clsOFMAd4j</td>\n",
       "      <td>DE11211470105977410790</td>\n",
       "      <td>2015-10-14 19:57:25.000</td>\n",
       "      <td>2015-10-14 19:57:28.464</td>\n",
       "      <td>0</td>\n",
       "      <td>video</td>\n",
       "      <td>de</td>\n",
       "      <td>3</td>\n",
       "    </tr>\n",
       "    <tr>\n",
       "      <th>3</th>\n",
       "      <td>zxUrSEtSJkcJ4NIXQi1NUMEGT2VeDiGU28APbHyk</td>\n",
       "      <td>DE10578698098111390901</td>\n",
       "      <td>2016-07-05 01:04:46.826</td>\n",
       "      <td>2016-07-05 01:04:48.166</td>\n",
       "      <td>0</td>\n",
       "      <td>text</td>\n",
       "      <td>en</td>\n",
       "      <td>5</td>\n",
       "    </tr>\n",
       "    <tr>\n",
       "      <th>4</th>\n",
       "      <td>WbiAkqGINB.GiElspYTwbIzFzfjI09BZAmhTl8Ff</td>\n",
       "      <td>DE86106683118467121141</td>\n",
       "      <td>2015-09-22 23:37:17.872</td>\n",
       "      <td>2015-09-22 23:53:22.468</td>\n",
       "      <td>16</td>\n",
       "      <td>video</td>\n",
       "      <td>en</td>\n",
       "      <td>9</td>\n",
       "    </tr>\n",
       "    <tr>\n",
       "      <th>...</th>\n",
       "      <td>...</td>\n",
       "      <td>...</td>\n",
       "      <td>...</td>\n",
       "      <td>...</td>\n",
       "      <td>...</td>\n",
       "      <td>...</td>\n",
       "      <td>...</td>\n",
       "      <td>...</td>\n",
       "    </tr>\n",
       "    <tr>\n",
       "      <th>32300</th>\n",
       "      <td>jJzReYmETY2QsJwrK2IfogHRT.BsS2ep6mYPbsx3</td>\n",
       "      <td>DE85896610092102111190</td>\n",
       "      <td>2016-02-01 12:55:49.407</td>\n",
       "      <td>2016-02-01 13:11:43.743</td>\n",
       "      <td>16</td>\n",
       "      <td>video</td>\n",
       "      <td>en</td>\n",
       "      <td>9</td>\n",
       "    </tr>\n",
       "    <tr>\n",
       "      <th>32301</th>\n",
       "      <td>JKPXrOAoD3MTLPSKCXwpboEuIk6lLUo0QfOqcVKT</td>\n",
       "      <td>DE11410165104119910883</td>\n",
       "      <td>2015-03-01 09:29:42.916</td>\n",
       "      <td>2015-03-01 09:32:08.007</td>\n",
       "      <td>2</td>\n",
       "      <td>video</td>\n",
       "      <td>de</td>\n",
       "      <td>2</td>\n",
       "    </tr>\n",
       "    <tr>\n",
       "      <th>32302</th>\n",
       "      <td>aWxqWegyYCk0j1FRv4XgWQuQfSo0lHyRIqlvILgN</td>\n",
       "      <td>DE11190737899794611770</td>\n",
       "      <td>2016-02-17 15:05:45.786</td>\n",
       "      <td>2016-02-17 15:10:55.866</td>\n",
       "      <td>5</td>\n",
       "      <td>video</td>\n",
       "      <td>en</td>\n",
       "      <td>5</td>\n",
       "    </tr>\n",
       "    <tr>\n",
       "      <th>32303</th>\n",
       "      <td>33OhcAGnEeUAZL5gnVJshIt6Z9eot5FK6OfmjoJw</td>\n",
       "      <td>DE75112807286739821091</td>\n",
       "      <td>2016-02-13 10:14:09.115</td>\n",
       "      <td>2016-02-13 10:19:10.426</td>\n",
       "      <td>5</td>\n",
       "      <td>video</td>\n",
       "      <td>de</td>\n",
       "      <td>5</td>\n",
       "    </tr>\n",
       "    <tr>\n",
       "      <th>32304</th>\n",
       "      <td>.99Rok5rK8k5TRx45QX.mUNkI3.ndzSd2q1f5jDv</td>\n",
       "      <td>DE77112658881706869711</td>\n",
       "      <td>2016-07-02 23:12:16.829</td>\n",
       "      <td>2016-07-02 23:12:19.885</td>\n",
       "      <td>0</td>\n",
       "      <td>text</td>\n",
       "      <td>en</td>\n",
       "      <td>7</td>\n",
       "    </tr>\n",
       "  </tbody>\n",
       "</table>\n",
       "<p>32305 rows × 8 columns</p>\n",
       "</div>"
      ],
      "text/plain": [
       "                                        user_id             material_id  \\\n",
       "0      NVtS.3y2cqAPta8vp9mCaAn5NxToIdGRkfNn7xQx  DE98877711174670901191   \n",
       "1      nygas99jztQq9WZnw.6CJcn66D3274iGUz6habfD  DE12131011171121131109   \n",
       "2      9z09kkdnXbwIhNjrCmblpkcq2tMRD6clsOFMAd4j  DE11211470105977410790   \n",
       "3      zxUrSEtSJkcJ4NIXQi1NUMEGT2VeDiGU28APbHyk  DE10578698098111390901   \n",
       "4      WbiAkqGINB.GiElspYTwbIzFzfjI09BZAmhTl8Ff  DE86106683118467121141   \n",
       "...                                         ...                     ...   \n",
       "32300  jJzReYmETY2QsJwrK2IfogHRT.BsS2ep6mYPbsx3  DE85896610092102111190   \n",
       "32301  JKPXrOAoD3MTLPSKCXwpboEuIk6lLUo0QfOqcVKT  DE11410165104119910883   \n",
       "32302  aWxqWegyYCk0j1FRv4XgWQuQfSo0lHyRIqlvILgN  DE11190737899794611770   \n",
       "32303  33OhcAGnEeUAZL5gnVJshIt6Z9eot5FK6OfmjoJw  DE75112807286739821091   \n",
       "32304  .99Rok5rK8k5TRx45QX.mUNkI3.ndzSd2q1f5jDv  DE77112658881706869711   \n",
       "\n",
       "                    started_at              finished_at  completion_duration  \\\n",
       "0      2016-06-29 16:49:13.759  2016-06-29 16:53:31.886                    4   \n",
       "1      2016-03-17 17:44:49.851  2016-03-17 17:44:51.412                    0   \n",
       "2      2015-10-14 19:57:25.000  2015-10-14 19:57:28.464                    0   \n",
       "3      2016-07-05 01:04:46.826  2016-07-05 01:04:48.166                    0   \n",
       "4      2015-09-22 23:37:17.872  2015-09-22 23:53:22.468                   16   \n",
       "...                        ...                      ...                  ...   \n",
       "32300  2016-02-01 12:55:49.407  2016-02-01 13:11:43.743                   16   \n",
       "32301  2015-03-01 09:29:42.916  2015-03-01 09:32:08.007                    2   \n",
       "32302  2016-02-17 15:05:45.786  2016-02-17 15:10:55.866                    5   \n",
       "32303  2016-02-13 10:14:09.115  2016-02-13 10:19:10.426                    5   \n",
       "32304  2016-07-02 23:12:16.829  2016-07-02 23:12:19.885                    0   \n",
       "\n",
       "        type language  duration_minutes  \n",
       "0      video       de                 4  \n",
       "1       text       de                10  \n",
       "2      video       de                 3  \n",
       "3       text       en                 5  \n",
       "4      video       en                 9  \n",
       "...      ...      ...               ...  \n",
       "32300  video       en                 9  \n",
       "32301  video       de                 2  \n",
       "32302  video       en                 5  \n",
       "32303  video       de                 5  \n",
       "32304   text       en                 7  \n",
       "\n",
       "[32305 rows x 8 columns]"
      ]
     },
     "execution_count": 23,
     "metadata": {},
     "output_type": "execute_result"
    }
   ],
   "source": [
    "# Merge our previous dataframe with user completion duration and the material dataframe\n",
    "user_mat_df = pd.merge(df, material, how =\"left\", on=\"material_id\")\n",
    "user_mat_df"
   ]
  },
  {
   "cell_type": "code",
   "execution_count": 36,
   "id": "ec4a6b20",
   "metadata": {},
   "outputs": [],
   "source": [
    "import numpy as np\n",
    "\n",
    "# Create an additional column that indicates whether a learner 'cheated' on a material or not\n",
    "# We define cheating as completing a resource in under half of the estimated completion time.\n",
    "user_mat_df[\"Cheated\"] = np.where(user_mat_df.completion_duration < user_mat_df.duration_minutes/2, True, False)"
   ]
  },
  {
   "cell_type": "code",
   "execution_count": 40,
   "id": "fdff7b83",
   "metadata": {},
   "outputs": [
    {
     "data": {
      "text/html": [
       "<div>\n",
       "<style scoped>\n",
       "    .dataframe tbody tr th:only-of-type {\n",
       "        vertical-align: middle;\n",
       "    }\n",
       "\n",
       "    .dataframe tbody tr th {\n",
       "        vertical-align: top;\n",
       "    }\n",
       "\n",
       "    .dataframe thead th {\n",
       "        text-align: right;\n",
       "    }\n",
       "</style>\n",
       "<table border=\"1\" class=\"dataframe\">\n",
       "  <thead>\n",
       "    <tr style=\"text-align: right;\">\n",
       "      <th></th>\n",
       "      <th>user_id</th>\n",
       "      <th>material_id</th>\n",
       "      <th>started_at</th>\n",
       "      <th>finished_at</th>\n",
       "      <th>completion_duration</th>\n",
       "      <th>type</th>\n",
       "      <th>language</th>\n",
       "      <th>duration_minutes</th>\n",
       "      <th>Cheated</th>\n",
       "    </tr>\n",
       "  </thead>\n",
       "  <tbody>\n",
       "    <tr>\n",
       "      <th>0</th>\n",
       "      <td>NVtS.3y2cqAPta8vp9mCaAn5NxToIdGRkfNn7xQx</td>\n",
       "      <td>DE98877711174670901191</td>\n",
       "      <td>2016-06-29 16:49:13.759</td>\n",
       "      <td>2016-06-29 16:53:31.886</td>\n",
       "      <td>4</td>\n",
       "      <td>video</td>\n",
       "      <td>de</td>\n",
       "      <td>4</td>\n",
       "      <td>False</td>\n",
       "    </tr>\n",
       "    <tr>\n",
       "      <th>1</th>\n",
       "      <td>nygas99jztQq9WZnw.6CJcn66D3274iGUz6habfD</td>\n",
       "      <td>DE12131011171121131109</td>\n",
       "      <td>2016-03-17 17:44:49.851</td>\n",
       "      <td>2016-03-17 17:44:51.412</td>\n",
       "      <td>0</td>\n",
       "      <td>text</td>\n",
       "      <td>de</td>\n",
       "      <td>10</td>\n",
       "      <td>True</td>\n",
       "    </tr>\n",
       "    <tr>\n",
       "      <th>2</th>\n",
       "      <td>9z09kkdnXbwIhNjrCmblpkcq2tMRD6clsOFMAd4j</td>\n",
       "      <td>DE11211470105977410790</td>\n",
       "      <td>2015-10-14 19:57:25.000</td>\n",
       "      <td>2015-10-14 19:57:28.464</td>\n",
       "      <td>0</td>\n",
       "      <td>video</td>\n",
       "      <td>de</td>\n",
       "      <td>3</td>\n",
       "      <td>True</td>\n",
       "    </tr>\n",
       "    <tr>\n",
       "      <th>3</th>\n",
       "      <td>zxUrSEtSJkcJ4NIXQi1NUMEGT2VeDiGU28APbHyk</td>\n",
       "      <td>DE10578698098111390901</td>\n",
       "      <td>2016-07-05 01:04:46.826</td>\n",
       "      <td>2016-07-05 01:04:48.166</td>\n",
       "      <td>0</td>\n",
       "      <td>text</td>\n",
       "      <td>en</td>\n",
       "      <td>5</td>\n",
       "      <td>True</td>\n",
       "    </tr>\n",
       "    <tr>\n",
       "      <th>4</th>\n",
       "      <td>WbiAkqGINB.GiElspYTwbIzFzfjI09BZAmhTl8Ff</td>\n",
       "      <td>DE86106683118467121141</td>\n",
       "      <td>2015-09-22 23:37:17.872</td>\n",
       "      <td>2015-09-22 23:53:22.468</td>\n",
       "      <td>16</td>\n",
       "      <td>video</td>\n",
       "      <td>en</td>\n",
       "      <td>9</td>\n",
       "      <td>False</td>\n",
       "    </tr>\n",
       "  </tbody>\n",
       "</table>\n",
       "</div>"
      ],
      "text/plain": [
       "                                    user_id             material_id  \\\n",
       "0  NVtS.3y2cqAPta8vp9mCaAn5NxToIdGRkfNn7xQx  DE98877711174670901191   \n",
       "1  nygas99jztQq9WZnw.6CJcn66D3274iGUz6habfD  DE12131011171121131109   \n",
       "2  9z09kkdnXbwIhNjrCmblpkcq2tMRD6clsOFMAd4j  DE11211470105977410790   \n",
       "3  zxUrSEtSJkcJ4NIXQi1NUMEGT2VeDiGU28APbHyk  DE10578698098111390901   \n",
       "4  WbiAkqGINB.GiElspYTwbIzFzfjI09BZAmhTl8Ff  DE86106683118467121141   \n",
       "\n",
       "                started_at              finished_at  completion_duration  \\\n",
       "0  2016-06-29 16:49:13.759  2016-06-29 16:53:31.886                    4   \n",
       "1  2016-03-17 17:44:49.851  2016-03-17 17:44:51.412                    0   \n",
       "2  2015-10-14 19:57:25.000  2015-10-14 19:57:28.464                    0   \n",
       "3  2016-07-05 01:04:46.826  2016-07-05 01:04:48.166                    0   \n",
       "4  2015-09-22 23:37:17.872  2015-09-22 23:53:22.468                   16   \n",
       "\n",
       "    type language  duration_minutes  Cheated  \n",
       "0  video       de                 4    False  \n",
       "1   text       de                10     True  \n",
       "2  video       de                 3     True  \n",
       "3   text       en                 5     True  \n",
       "4  video       en                 9    False  "
      ]
     },
     "execution_count": 40,
     "metadata": {},
     "output_type": "execute_result"
    }
   ],
   "source": [
    "# check the resulting dataframe\n",
    "user_mat_df.head()"
   ]
  },
  {
   "cell_type": "code",
   "execution_count": 37,
   "id": "fbf9432c",
   "metadata": {},
   "outputs": [
    {
     "data": {
      "text/html": [
       "<div>\n",
       "<style scoped>\n",
       "    .dataframe tbody tr th:only-of-type {\n",
       "        vertical-align: middle;\n",
       "    }\n",
       "\n",
       "    .dataframe tbody tr th {\n",
       "        vertical-align: top;\n",
       "    }\n",
       "\n",
       "    .dataframe thead th {\n",
       "        text-align: right;\n",
       "    }\n",
       "</style>\n",
       "<table border=\"1\" class=\"dataframe\">\n",
       "  <thead>\n",
       "    <tr style=\"text-align: right;\">\n",
       "      <th></th>\n",
       "      <th>completion_duration</th>\n",
       "      <th>duration_minutes</th>\n",
       "      <th>Cheated</th>\n",
       "    </tr>\n",
       "    <tr>\n",
       "      <th>user_id</th>\n",
       "      <th></th>\n",
       "      <th></th>\n",
       "      <th></th>\n",
       "    </tr>\n",
       "  </thead>\n",
       "  <tbody>\n",
       "    <tr>\n",
       "      <th>KRCU.FMaTaof0JEjOXVhyE4xxydriyWkA9kBpU1L</th>\n",
       "      <td>19</td>\n",
       "      <td>1601</td>\n",
       "      <td>231</td>\n",
       "    </tr>\n",
       "    <tr>\n",
       "      <th>vVB3LEm99NoaNegAaXf8Hcfs1C0K77uY6hm.BneP</th>\n",
       "      <td>100</td>\n",
       "      <td>1617</td>\n",
       "      <td>215</td>\n",
       "    </tr>\n",
       "    <tr>\n",
       "      <th>ZfhRRI8gCEwUghEBvW30fInyMzG7nOeyAzq8FDXL</th>\n",
       "      <td>4</td>\n",
       "      <td>1240</td>\n",
       "      <td>196</td>\n",
       "    </tr>\n",
       "    <tr>\n",
       "      <th>AvYb9Drr7DAbTvR6.twAqsne8APF4FcCQ732MLHG</th>\n",
       "      <td>51</td>\n",
       "      <td>1591</td>\n",
       "      <td>192</td>\n",
       "    </tr>\n",
       "    <tr>\n",
       "      <th>.99Rok5rK8k5TRx45QX.mUNkI3.ndzSd2q1f5jDv</th>\n",
       "      <td>10</td>\n",
       "      <td>990</td>\n",
       "      <td>184</td>\n",
       "    </tr>\n",
       "    <tr>\n",
       "      <th>...</th>\n",
       "      <td>...</td>\n",
       "      <td>...</td>\n",
       "      <td>...</td>\n",
       "    </tr>\n",
       "    <tr>\n",
       "      <th>T9gqYkyF3BoOyksZcoDg.IMzKPuzZbm9wN7kVJ8j</th>\n",
       "      <td>5</td>\n",
       "      <td>5</td>\n",
       "      <td>0</td>\n",
       "    </tr>\n",
       "    <tr>\n",
       "      <th>Smj3Hp.6qJ6r3roOmDG5CgsIhbAUrFQQ2MVmMfWL</th>\n",
       "      <td>31</td>\n",
       "      <td>30</td>\n",
       "      <td>0</td>\n",
       "    </tr>\n",
       "    <tr>\n",
       "      <th>SjPq3cH.S7.c2nC80X4KbAq.oKyUuCkWoagmYj2j</th>\n",
       "      <td>90</td>\n",
       "      <td>25</td>\n",
       "      <td>0</td>\n",
       "    </tr>\n",
       "    <tr>\n",
       "      <th>Sb2K.lRk9o6RcYH.ac093wbBChkgmzhyI1p7JOOp</th>\n",
       "      <td>1</td>\n",
       "      <td>1</td>\n",
       "      <td>0</td>\n",
       "    </tr>\n",
       "    <tr>\n",
       "      <th>zzV3YJBsY1Iaqq.gXBVHOYJmuMYxYrJlEsbFrr8q</th>\n",
       "      <td>126</td>\n",
       "      <td>21</td>\n",
       "      <td>0</td>\n",
       "    </tr>\n",
       "  </tbody>\n",
       "</table>\n",
       "<p>1163 rows × 3 columns</p>\n",
       "</div>"
      ],
      "text/plain": [
       "                                          completion_duration  \\\n",
       "user_id                                                         \n",
       "KRCU.FMaTaof0JEjOXVhyE4xxydriyWkA9kBpU1L                   19   \n",
       "vVB3LEm99NoaNegAaXf8Hcfs1C0K77uY6hm.BneP                  100   \n",
       "ZfhRRI8gCEwUghEBvW30fInyMzG7nOeyAzq8FDXL                    4   \n",
       "AvYb9Drr7DAbTvR6.twAqsne8APF4FcCQ732MLHG                   51   \n",
       ".99Rok5rK8k5TRx45QX.mUNkI3.ndzSd2q1f5jDv                   10   \n",
       "...                                                       ...   \n",
       "T9gqYkyF3BoOyksZcoDg.IMzKPuzZbm9wN7kVJ8j                    5   \n",
       "Smj3Hp.6qJ6r3roOmDG5CgsIhbAUrFQQ2MVmMfWL                   31   \n",
       "SjPq3cH.S7.c2nC80X4KbAq.oKyUuCkWoagmYj2j                   90   \n",
       "Sb2K.lRk9o6RcYH.ac093wbBChkgmzhyI1p7JOOp                    1   \n",
       "zzV3YJBsY1Iaqq.gXBVHOYJmuMYxYrJlEsbFrr8q                  126   \n",
       "\n",
       "                                          duration_minutes  Cheated  \n",
       "user_id                                                              \n",
       "KRCU.FMaTaof0JEjOXVhyE4xxydriyWkA9kBpU1L              1601      231  \n",
       "vVB3LEm99NoaNegAaXf8Hcfs1C0K77uY6hm.BneP              1617      215  \n",
       "ZfhRRI8gCEwUghEBvW30fInyMzG7nOeyAzq8FDXL              1240      196  \n",
       "AvYb9Drr7DAbTvR6.twAqsne8APF4FcCQ732MLHG              1591      192  \n",
       ".99Rok5rK8k5TRx45QX.mUNkI3.ndzSd2q1f5jDv               990      184  \n",
       "...                                                    ...      ...  \n",
       "T9gqYkyF3BoOyksZcoDg.IMzKPuzZbm9wN7kVJ8j                 5        0  \n",
       "Smj3Hp.6qJ6r3roOmDG5CgsIhbAUrFQQ2MVmMfWL                30        0  \n",
       "SjPq3cH.S7.c2nC80X4KbAq.oKyUuCkWoagmYj2j                25        0  \n",
       "Sb2K.lRk9o6RcYH.ac093wbBChkgmzhyI1p7JOOp                 1        0  \n",
       "zzV3YJBsY1Iaqq.gXBVHOYJmuMYxYrJlEsbFrr8q                21        0  \n",
       "\n",
       "[1163 rows x 3 columns]"
      ]
     },
     "execution_count": 37,
     "metadata": {},
     "output_type": "execute_result"
    }
   ],
   "source": [
    "# Column 'Cheated' accounts for the amount of materials a user might've cheated on\n",
    "cheated_df = user_mat_df.groupby(by=\"user_id\").sum(\"Cheated\").sort_values(by=\"Cheated\",ascending=False)\n",
    "cheated_df"
   ]
  },
  {
   "cell_type": "markdown",
   "id": "dbd54ac2",
   "metadata": {},
   "source": [
    "Let's see whether we can see a relationship between a user's number of completed materials and the detected number of cheating attempts"
   ]
  },
  {
   "cell_type": "code",
   "execution_count": 38,
   "id": "6588af30",
   "metadata": {},
   "outputs": [
    {
     "data": {
      "text/plain": [
       "<AxesSubplot:xlabel='counts', ylabel='Cheated'>"
      ]
     },
     "execution_count": 38,
     "metadata": {},
     "output_type": "execute_result"
    },
    {
     "data": {
      "image/png": "[encoded data removed]",
      "text/plain": [
       "<Figure size 432x288 with 1 Axes>"
      ]
     },
     "metadata": {
      "needs_background": "light"
     },
     "output_type": "display_data"
    }
   ],
   "source": [
    "pd.merge((user_mat_df.groupby(by=\"user_id\").size().reset_index(name='counts')), cheated_df, how =\"left\", on=\"user_id\").plot.scatter(x=\"counts\", y=\"Cheated\")"
   ]
  },
  {
   "cell_type": "code",
   "execution_count": 43,
   "id": "60645f80",
   "metadata": {},
   "outputs": [],
   "source": [
    "user_cheats = pd.merge((user_mat_df.groupby(by=\"user_id\").size().reset_index(name='counts')), cheated_df, how =\"left\", on=\"user_id\")"
   ]
  },
  {
   "cell_type": "code",
   "execution_count": 45,
   "id": "2cf5a952",
   "metadata": {},
   "outputs": [],
   "source": [
    "user_cheats[\"cheated_ratio\"] = user_cheats.Cheated / user_cheats.counts "
   ]
  },
  {
   "cell_type": "code",
   "execution_count": 48,
   "id": "58010b20",
   "metadata": {},
   "outputs": [
    {
     "data": {
      "text/plain": [
       "array([[<AxesSubplot:title={'center':'cheated_ratio'}>]], dtype=object)"
      ]
     },
     "execution_count": 48,
     "metadata": {},
     "output_type": "execute_result"
    },
    {
     "data": {
      "image/png": "[encoded data removed]",
      "text/plain": [
       "<Figure size 432x288 with 1 Axes>"
      ]
     },
     "metadata": {
      "needs_background": "light"
     },
     "output_type": "display_data"
    }
   ],
   "source": [
    "user_cheats.hist(\"cheated_ratio\", bins = 30)"
   ]
  },
  {
   "cell_type": "markdown",
   "id": "4ab7f607",
   "metadata": {},
   "source": [
    "The histogram indicates that we have a high number of learners with a high cheating ratio.\n",
    "\n",
    "Next up one could try to analyze what this high number of potential cheaters consists of. \n",
    "\n",
    "For example, a high cheated_ratio for a user could come from a user that only looked at very few materials overall and briefly skipped through them to check out the edyoucated platform workflow."
   ]
  },
  {
   "cell_type": "markdown",
   "id": "7fdafbaf",
   "metadata": {},
   "source": [
    "#### 3. What other information can you derive from the data?"
   ]
  },
  {
   "cell_type": "markdown",
   "id": "53d6f538",
   "metadata": {},
   "source": [
    "An exciting question that I'd love to answer when working with the Data Science team at edyoucated :)"
   ]
  },
  {
   "cell_type": "markdown",
   "id": "95bb3509",
   "metadata": {},
   "source": [
    "### User classes"
   ]
  },
  {
   "cell_type": "markdown",
   "id": "fb387cac",
   "metadata": {},
   "source": [
    "In the provided data you find information about some of our users and their skills. The goal of this challenge is to create a useful `User` **class in Python** (all the details are up to you). A user object should have (you can add more information if useful)"
   ]
  },
  {
   "cell_type": "markdown",
   "id": "a7735449",
   "metadata": {},
   "source": [
    "1. An identifier so that we can distinguish different users from each other uniquely,\n",
    "2. Their skills (you can find them in the data), together with their \"mastery\" status, \n",
    "3. A `describe()` method which gives a summary of all relevant information about the user. \n",
    "\n",
    "Once your `User` class is finished, create a list of all the users and their respective skills from the provided dataset."
   ]
  },
  {
   "cell_type": "code",
   "execution_count": 62,
   "id": "8f2c0f58",
   "metadata": {},
   "outputs": [],
   "source": [
    "class User:\n",
    "    \n",
    "    # I assume that the users to import already are equipped with a unique id.\n",
    "    # Otherwise I'd probably create a dictionary for users as class variable, so that\n",
    "    # all instances can keep track of the current users and prevent duplicate userIds\n",
    "    # when creating a new user\n",
    "    \n",
    "    def __init__(self, user_id):\n",
    "        self.user_id = user_id\n",
    "        \n",
    "        # A list for a users skills. Skills appended as dictionaries.\n",
    "        self.skills = []\n",
    "        \n",
    "    def add_skill(self, skill_id, mastery_status): \n",
    "        self.skills.append({\"skill_id\":skill_id, \"mastery_status\":mastery_status})\n",
    "    \n",
    "    # set mastery status of a given skill to true\n",
    "    def mastery_status_true(self, skill_id):\n",
    "        for skill in self.skills:\n",
    "            if skill[\"skill_id\"] == skill_id: skill[\"mastery_status\"]= True\n",
    "                \n",
    "    # set mastery status of a given skill to false\n",
    "    def mastery_status_false(self, skill_id):\n",
    "        for skill in self.skills:\n",
    "            if skill[\"skill_id\"] == skill_id: skill[\"mastery_status\"]= False\n",
    "            \n",
    "    # print neat summary of the user\n",
    "    def describe(self):\n",
    "        \n",
    "        # Number of skills\n",
    "        skills_number = len(self.skills)\n",
    "        \n",
    "        # Percentage of mastered skills out of total skills\n",
    "        skills_mastered_perc = round(len([i for i in self.skills if i['mastery_status'] == True]) / len(self.skills), 2)\n",
    "        \n",
    "        print(f\"Summary stats for user with ID: {self.user_id} \\n \\n\")\n",
    "        \n",
    "        print(f\"The user has started {skills_number} skills so far. Great! Keep going! \\n\")\n",
    "        \n",
    "        print(f\"The user has mastered {skills_mastered_perc}% of their started skills.\")\n",
    "        \n",
    "    # We could also add all kinds of metrics like\n",
    "    # Number of materials started\n",
    "    # Number of materials completed\n",
    "    # Different summary metrics like sum, min, max completion duration\n",
    "    # Learning time over the past week, months, year etc.\n",
    "    # Number of completed materials or skills over the past week, months, year etc.\n"
   ]
  },
  {
   "cell_type": "code",
   "execution_count": 63,
   "id": "dd55aa22",
   "metadata": {},
   "outputs": [],
   "source": [
    "# create a list of all the users and their respective skills from the provided dataset\n",
    "\n",
    "def create_users(df):\n",
    "    users = []\n",
    "    count = 0\n",
    "    for id in user_skill[\"user_id\"].unique():\n",
    "        count += 1\n",
    "        user = User(id)\n",
    "\n",
    "        for index, row in df.loc[df[\"user_id\"]==id].iterrows():\n",
    "            user.add_skill(row['skill_id'], row['is_mastered'])\n",
    "\n",
    "            \n",
    "        users.append(user)\n",
    "    \n",
    "    return users\n",
    "    \n",
    "users = create_users(user_skill)"
   ]
  },
  {
   "cell_type": "code",
   "execution_count": 64,
   "id": "adcb2b65",
   "metadata": {},
   "outputs": [
    {
     "name": "stdout",
     "output_type": "stream",
     "text": [
      "Summary stats for user with ID: 9aMTY.HhCbE.KkdjhBwLrYRGMsh7rx3wwlDOFsCK \n",
      " \n",
      "\n",
      "The user has started 35 skills so far. Great! Keep going! \n",
      "\n",
      "The user has mastered 0.46% of their started skills.\n"
     ]
    }
   ],
   "source": [
    "users[0].describe()"
   ]
  },
  {
   "cell_type": "code",
   "execution_count": null,
   "id": "01d2179f",
   "metadata": {},
   "outputs": [],
   "source": []
  }
 ],
 "metadata": {
  "kernelspec": {
   "display_name": "Python (case study)",
   "language": "python",
   "name": "myenv"
  },
  "language_info": {
   "codemirror_mode": {
    "name": "ipython",
    "version": 3
   },
   "file_extension": ".py",
   "mimetype": "text/x-python",
   "name": "python",
   "nbconvert_exporter": "python",
   "pygments_lexer": "ipython3",
   "version": "3.8.10"
  }
 },
 "nbformat": 4,
 "nbformat_minor": 5
}
